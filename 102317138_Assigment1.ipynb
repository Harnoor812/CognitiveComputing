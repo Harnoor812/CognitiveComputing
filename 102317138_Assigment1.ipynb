{
 "cells": [
  {
   "cell_type": "code",
   "execution_count": 3,
   "id": "90dbb551-fe1f-4f64-a53f-acf4805d843a",
   "metadata": {},
   "outputs": [
    {
     "name": "stdout",
     "output_type": "stream",
     "text": [
      "Heyyy!!!\n"
     ]
    }
   ],
   "source": [
    "#Ques 1\n",
    "print('Heyyy!!!')"
   ]
  },
  {
   "cell_type": "code",
   "execution_count": 5,
   "id": "d3ba4634-c8db-4ab1-97e9-053d6f663f4b",
   "metadata": {},
   "outputs": [
    {
     "data": {
      "text/plain": [
       "6"
      ]
     },
     "execution_count": 5,
     "metadata": {},
     "output_type": "execute_result"
    }
   ],
   "source": [
    "#Ques 2.1\n",
    "a=2\n",
    "b=4\n",
    "a+b"
   ]
  },
  {
   "cell_type": "code",
   "execution_count": 7,
   "id": "f3e55fdd-1acb-4355-b01f-f31a0b05a8d7",
   "metadata": {},
   "outputs": [
    {
     "data": {
      "text/plain": [
       "'CognitiveComputing'"
      ]
     },
     "execution_count": 7,
     "metadata": {},
     "output_type": "execute_result"
    }
   ],
   "source": [
    "#Ques 2.2\n",
    "str1='Cognitive'\n",
    "str2='Computing'\n",
    "str1+str2"
   ]
  },
  {
   "cell_type": "code",
   "execution_count": 13,
   "id": "5ec103bd-a6fc-4d4e-9980-b27918eb7b76",
   "metadata": {},
   "outputs": [
    {
     "data": {
      "text/plain": [
       "'Sem4'"
      ]
     },
     "execution_count": 13,
     "metadata": {},
     "output_type": "execute_result"
    }
   ],
   "source": [
    "#Ques 2.3\n",
    "str3='Sem'\n",
    "c=4\n",
    "str3+str(c)"
   ]
  },
  {
   "cell_type": "code",
   "execution_count": 15,
   "id": "3da04e8b-4a41-415f-a183-ac1c9bcdea71",
   "metadata": {},
   "outputs": [
    {
     "name": "stdout",
     "output_type": "stream",
     "text": [
      "positive\n"
     ]
    }
   ],
   "source": [
    "#Ques 3.1\n",
    "if c>0:\n",
    "    print('positive')\n",
    "elif c==0:\n",
    "    print('zero')\n",
    "else:\n",
    "    print('negative')"
   ]
  },
  {
   "cell_type": "code",
   "execution_count": 17,
   "id": "96bca096-e26a-4256-b6b2-a0550fa87428",
   "metadata": {},
   "outputs": [
    {
     "name": "stdout",
     "output_type": "stream",
     "text": [
      "Even\n"
     ]
    }
   ],
   "source": [
    "#Ques 3.2\n",
    "d=8\n",
    "if d%2==0:\n",
    "    print('Even')\n",
    "else:\n",
    "    print('Odd')"
   ]
  },
  {
   "cell_type": "code",
   "execution_count": 19,
   "id": "8db7fffa-0086-48f3-928b-250e79fa6376",
   "metadata": {},
   "outputs": [
    {
     "name": "stdout",
     "output_type": "stream",
     "text": [
      "1\n",
      "2\n",
      "3\n",
      "4\n",
      "5\n",
      "6\n",
      "7\n",
      "8\n",
      "9\n",
      "10\n"
     ]
    }
   ],
   "source": [
    "#Ques 4.1\n",
    "for i in range(1, 11):\n",
    "    print(i)"
   ]
  },
  {
   "cell_type": "code",
   "execution_count": 23,
   "id": "72841752-a3b3-46af-8899-aad46d03420e",
   "metadata": {},
   "outputs": [
    {
     "name": "stdout",
     "output_type": "stream",
     "text": [
      "1\n",
      "2\n",
      "3\n",
      "4\n",
      "5\n",
      "6\n",
      "7\n",
      "8\n",
      "9\n",
      "10\n"
     ]
    }
   ],
   "source": [
    "#Ques 4.2\n",
    "i=1\n",
    "while i<=10:\n",
    "    print(i)\n",
    "    i+= 1"
   ]
  },
  {
   "cell_type": "code",
   "execution_count": 27,
   "id": "73803b7e-4a85-473b-9de5-23e91676e3a4",
   "metadata": {},
   "outputs": [
    {
     "name": "stdout",
     "output_type": "stream",
     "text": [
      "Sum = 5050\n"
     ]
    }
   ],
   "source": [
    "#Ques 4.3\n",
    "sum=0\n",
    "for i in range(1, 101):\n",
    "    sum=sum+i\n",
    "print('Sum =',sum)"
   ]
  },
  {
   "cell_type": "code",
   "execution_count": 29,
   "id": "0d522dcc-9524-4693-97fb-66090dacfdea",
   "metadata": {},
   "outputs": [
    {
     "name": "stdout",
     "output_type": "stream",
     "text": [
      "Max=  87\n",
      "Min=  12\n"
     ]
    }
   ],
   "source": [
    "#Ques 5.1\n",
    "A=[12,34,52,87,70]\n",
    "print('Max= ',max(A))\n",
    "print('Min= ',min(A))"
   ]
  },
  {
   "cell_type": "code",
   "execution_count": 31,
   "id": "8e714aeb-2f80-48e1-8515-40a7c3c8c831",
   "metadata": {},
   "outputs": [
    {
     "name": "stdout",
     "output_type": "stream",
     "text": [
      "2\n"
     ]
    }
   ],
   "source": [
    "#Ques 5.2\n",
    "D={'X':1,'Y':2,'Z':3}\n",
    "print(D['Y'])"
   ]
  },
  {
   "cell_type": "code",
   "execution_count": 35,
   "id": "74aa08a7-4e8e-4e53-ba03-a74b10650875",
   "metadata": {},
   "outputs": [
    {
     "name": "stdout",
     "output_type": "stream",
     "text": [
      "Ascending=  [12, 34, 52, 70, 87]\n",
      "Descending=  [87, 70, 52, 34, 12]\n"
     ]
    }
   ],
   "source": [
    "#Ques 5.3\n",
    "print('Ascending= ',sorted(A))\n",
    "print('Descending= ',sorted(A,reverse=True))"
   ]
  },
  {
   "cell_type": "code",
   "execution_count": 39,
   "id": "950fe83a-9e81-439a-b400-d6390ba6dd4b",
   "metadata": {},
   "outputs": [
    {
     "name": "stdout",
     "output_type": "stream",
     "text": [
      "{'X': 1, 'Y': 2, 'Z': 3, 'A': 4, 'B': 5}\n"
     ]
    }
   ],
   "source": [
    "#Ques 5.4\n",
    "C={'A':4,'B':5}\n",
    "Merged={**D,**C}\n",
    "print(Merged)"
   ]
  },
  {
   "cell_type": "code",
   "execution_count": 41,
   "id": "8f5578aa-67fe-4c90-a7ac-ac3df048764f",
   "metadata": {},
   "outputs": [
    {
     "name": "stdout",
     "output_type": "stream",
     "text": [
      "3\n"
     ]
    }
   ],
   "source": [
    "#Ques 6.1\n",
    "strs='Assignment'\n",
    "vowels='aeiouAEIOU'\n",
    "sum=0\n",
    "for i in strs:\n",
    "    if i in vowels:\n",
    "        sum=sum+1\n",
    "print(sum)"
   ]
  },
  {
   "cell_type": "code",
   "execution_count": 43,
   "id": "f6fc7527-2ccc-4c8f-9689-bccfe264441b",
   "metadata": {},
   "outputs": [
    {
     "name": "stdout",
     "output_type": "stream",
     "text": [
      "tnemngissA\n"
     ]
    }
   ],
   "source": [
    "#Ques 6.2\n",
    "revstr=strs[::-1]\n",
    "print(revstr)"
   ]
  },
  {
   "cell_type": "code",
   "execution_count": 45,
   "id": "efcb5d83-c4c7-4060-aa58-7ee6ee7ce4a4",
   "metadata": {},
   "outputs": [
    {
     "name": "stdout",
     "output_type": "stream",
     "text": [
      "Is madam a palindrome?  True\n",
      "Is sir a palindrome?  False\n"
     ]
    }
   ],
   "source": [
    "#Ques 6.3\n",
    "string1='madam'\n",
    "string2='sir'\n",
    "print('Is madam a palindrome? ',string1==string1[::-1])\n",
    "print('Is sir a palindrome? ',string2==string2[::-1])"
   ]
  },
  {
   "cell_type": "code",
   "execution_count": 61,
   "id": "2456e472-0f38-43a4-b086-2acd3696720f",
   "metadata": {},
   "outputs": [
    {
     "name": "stdout",
     "output_type": "stream",
     "text": [
      "File is created and written\n"
     ]
    }
   ],
   "source": [
    "#Ques 7.1\n",
    "with open(\"test.txt\", \"w\") as file:\n",
    "    file.write('Text file opened')\n",
    "print('File is created and written')"
   ]
  },
  {
   "cell_type": "code",
   "execution_count": 63,
   "id": "7c7d11cb-456d-455b-92c7-022e0c23b444",
   "metadata": {},
   "outputs": [],
   "source": [
    "#Ques 7.2\n",
    "with open(\"test.txt\", \"a\") as file:\n",
    "    file.write('\\nAppending some text')"
   ]
  },
  {
   "cell_type": "code",
   "execution_count": 65,
   "id": "272272fa-1261-46a0-80ca-3ab572f67e1f",
   "metadata": {},
   "outputs": [
    {
     "name": "stdout",
     "output_type": "stream",
     "text": [
      "2\n"
     ]
    }
   ],
   "source": [
    "#Ques 7.3\n",
    "with open(\"test.txt\", \"r\") as file:\n",
    "    line_count = len(file.readlines())\n",
    "print(line_count)"
   ]
  },
  {
   "cell_type": "code",
   "execution_count": 59,
   "id": "c983ca4e-e152-4371-8e93-e8d12914bc7b",
   "metadata": {},
   "outputs": [
    {
     "name": "stdout",
     "output_type": "stream",
     "text": [
      "Cannot divide by zero\n"
     ]
    }
   ],
   "source": [
    "#Ques 8.1\n",
    "try:\n",
    "    result =1/0\n",
    "except ZeroDivisionError:\n",
    "    print('Cannot divide by zero')"
   ]
  },
  {
   "cell_type": "code",
   "execution_count": 67,
   "id": "2560e407-2ed3-4bfa-be76-beeea47205d8",
   "metadata": {},
   "outputs": [
    {
     "name": "stdin",
     "output_type": "stream",
     "text": [
      "Enter a number  hello\n"
     ]
    },
    {
     "name": "stdout",
     "output_type": "stream",
     "text": [
      "Invalid input\n"
     ]
    }
   ],
   "source": [
    "#Ques 8.2\n",
    "try:\n",
    "    num = int(input('Enter a number '))\n",
    "    print('Number entered is ', num)\n",
    "except ValueError:\n",
    "    print('Invalid input')"
   ]
  },
  {
   "cell_type": "code",
   "execution_count": 69,
   "id": "2d01faa3-ea2d-4875-83b4-1eeec30c285f",
   "metadata": {},
   "outputs": [
    {
     "name": "stdout",
     "output_type": "stream",
     "text": [
      "Trying\n",
      "Finally block executed\n"
     ]
    }
   ],
   "source": [
    "#Ques 8.3\n",
    "try:\n",
    "    print('Trying')\n",
    "finally:\n",
    "    print('Finally block executed')"
   ]
  },
  {
   "cell_type": "code",
   "execution_count": 71,
   "id": "e79a4af0-0fe8-46e3-ba00-37cc18b2bad0",
   "metadata": {},
   "outputs": [
    {
     "name": "stdout",
     "output_type": "stream",
     "text": [
      "Random numbers: [59, 13, 27, 47, 68]\n"
     ]
    }
   ],
   "source": [
    "#Ques 9.1\n",
    "import random\n",
    "print(\"Random numbers:\", [random.randint(1, 100) for _ in range(5)])"
   ]
  },
  {
   "cell_type": "code",
   "execution_count": 75,
   "id": "ecf75125-a996-468d-a250-f353a45836ae",
   "metadata": {},
   "outputs": [
    {
     "name": "stdout",
     "output_type": "stream",
     "text": [
      "Random Number is  16\n",
      "Not Prime\n"
     ]
    }
   ],
   "source": [
    "#Ques 9.2\n",
    "num = random.randint(1, 100)\n",
    "print('Random Number is ', num)\n",
    "if num > 1:\n",
    "    for i in range(2, num):\n",
    "        if num % i == 0:\n",
    "            print('Not Prime')\n",
    "            break\n",
    "    else:\n",
    "        print('Prime')\n",
    "else:\n",
    "    print('Not Prime')"
   ]
  },
  {
   "cell_type": "code",
   "execution_count": 77,
   "id": "26d5a0d2-9484-495e-81e6-edec8bb693fd",
   "metadata": {},
   "outputs": [
    {
     "name": "stdout",
     "output_type": "stream",
     "text": [
      "Dice Roll  6\n"
     ]
    }
   ],
   "source": [
    "#Ques 9.3\n",
    "print('Dice Roll ', random.randint(1, 6))"
   ]
  },
  {
   "cell_type": "code",
   "execution_count": 79,
   "id": "cda0754f-0a73-4ca9-bd45-70d566b28624",
   "metadata": {},
   "outputs": [
    {
     "name": "stdout",
     "output_type": "stream",
     "text": [
      "Shuffled  [5, 2, 1, 3, 4]\n"
     ]
    }
   ],
   "source": [
    "#Ques 9.4\n",
    "nums = [1, 2, 3, 4, 5]\n",
    "random.shuffle(nums)\n",
    "print('Shuffled ', nums)"
   ]
  },
  {
   "cell_type": "code",
   "execution_count": 81,
   "id": "6e202703-81db-48a0-a533-cb10f067b75d",
   "metadata": {},
   "outputs": [
    {
     "name": "stdout",
     "output_type": "stream",
     "text": [
      "Random item  5\n"
     ]
    }
   ],
   "source": [
    "#Ques 9.5\n",
    "print(\"Random item \", random.choice(nums))"
   ]
  },
  {
   "cell_type": "code",
   "execution_count": 83,
   "id": "61c7d0d9-5c04-4018-ad68-b11391dd4087",
   "metadata": {},
   "outputs": [
    {
     "name": "stdout",
     "output_type": "stream",
     "text": [
      "Random Password  wbBREqO8\n"
     ]
    }
   ],
   "source": [
    "#Ques 9.6\n",
    "import string\n",
    "length = 8\n",
    "password = ''.join(random.choices(string.ascii_letters + string.digits, k=length))\n",
    "print(\"Random Password \", password)"
   ]
  },
  {
   "cell_type": "code",
   "execution_count": 85,
   "id": "a6497607-a3ce-4fda-8105-12ac183e0ed7",
   "metadata": {},
   "outputs": [
    {
     "name": "stdout",
     "output_type": "stream",
     "text": [
      "Random Card: Jack of Spades\n"
     ]
    }
   ],
   "source": [
    "#Ques 9.7\n",
    "suits = [\"Hearts\", \"Diamonds\", \"Clubs\", \"Spades\"]\n",
    "values = [\"2\", \"3\", \"4\", \"5\", \"6\", \"7\", \"8\", \"9\", \"10\", \"Jack\", \"Queen\", \"King\", \"Ace\"]\n",
    "random_card = f\"{random.choice(values)} of {random.choice(suits)}\"\n",
    "print(\"Random Card:\", random_card)"
   ]
  },
  {
   "cell_type": "code",
   "execution_count": 89,
   "id": "5f995c23-d68f-4ee3-9b14-f9b4708d6008",
   "metadata": {},
   "outputs": [
    {
     "name": "stdout",
     "output_type": "stream",
     "text": [
      "Collecting argparse\n",
      "  Downloading argparse-1.4.0-py2.py3-none-any.whl.metadata (2.8 kB)\n",
      "Downloading argparse-1.4.0-py2.py3-none-any.whl (23 kB)\n",
      "Installing collected packages: argparse\n",
      "Successfully installed argparse-1.4.0\n",
      "Note: you may need to restart the kernel to use updated packages.\n"
     ]
    }
   ],
   "source": [
    "pip install argparse"
   ]
  },
  {
   "cell_type": "code",
   "execution_count": 9,
   "id": "611b7cc0-9450-4b1c-8f16-e3112019d22e",
   "metadata": {},
   "outputs": [
    {
     "name": "stdout",
     "output_type": "stream",
     "text": [
      "option -f not recognized\n"
     ]
    }
   ],
   "source": [
    "#Ques 10.1\n",
    "import getopt, sys\n",
    "\n",
    "argumentList = sys.argv[1:]\n",
    "\n",
    "options = \"hmo:\"\n",
    "\n",
    "long_options = [\"Help\", \"My_file\", \"Output=\"]\n",
    "\n",
    "try:\n",
    "    arguments, values = getopt.getopt(argumentList, options, long_options)\n",
    "    \n",
    "    for currentArgument, currentValue in arguments:\n",
    "\n",
    "        if currentArgument in (\"-h\", \"--Help\"):\n",
    "            print (\"Displaying Help\")\n",
    "            \n",
    "        elif currentArgument in (\"-m\", \"--My_file\"):\n",
    "            print (\"Displaying file_name:\", sys.argv[0])\n",
    "            \n",
    "        elif currentArgument in (\"-o\", \"--Output\"):\n",
    "            print ((\"Enabling special output mode (% s)\") % (currentValue))\n",
    "            \n",
    "except getopt.error as err:\n",
    "    print (str(err))"
   ]
  },
  {
   "cell_type": "code",
   "execution_count": 11,
   "id": "803d29b9-13ec-4582-891d-f0a60de7c253",
   "metadata": {},
   "outputs": [
    {
     "name": "stderr",
     "output_type": "stream",
     "text": [
      "usage: ipykernel_launcher.py [-h]\n",
      "ipykernel_launcher.py: error: unrecognized arguments: -f C:\\Users\\harno\\AppData\\Roaming\\jupyter\\runtime\\kernel-45ab8b8a-7581-4a1c-bb1d-0b217a12c47b.json\n"
     ]
    },
    {
     "ename": "SystemExit",
     "evalue": "2",
     "output_type": "error",
     "traceback": [
      "An exception has occurred, use %tb to see the full traceback.\n",
      "\u001b[1;31mSystemExit\u001b[0m\u001b[1;31m:\u001b[0m 2\n"
     ]
    }
   ],
   "source": [
    "#Ques 10.2\n",
    "import argparse\n",
    "msg = \"Adding description\"\n",
    "\n",
    "parser = argparse.ArgumentParser(description = msg)\n",
    "parser.parse_args()"
   ]
  },
  {
   "cell_type": "code",
   "execution_count": 13,
   "id": "40b8332e-df87-4d02-ad4c-cd961ca53b3a",
   "metadata": {},
   "outputs": [
    {
     "name": "stdout",
     "output_type": "stream",
     "text": [
      "Square Root is  4.0\n"
     ]
    }
   ],
   "source": [
    "#Ques 11.1\n",
    "import math, datetime, os\n",
    "print(\"Square Root is \", math.sqrt(16))"
   ]
  },
  {
   "cell_type": "code",
   "execution_count": 15,
   "id": "5474e443-fcad-454e-bd8c-80c325d6d8a0",
   "metadata": {},
   "outputs": [
    {
     "name": "stdout",
     "output_type": "stream",
     "text": [
      "Current Date and Time: 2025-01-13 17:41:28.406367\n"
     ]
    }
   ],
   "source": [
    "#Ques 11.2\n",
    "print(\"Current Date and Time:\", datetime.datetime.now())"
   ]
  },
  {
   "cell_type": "code",
   "execution_count": 17,
   "id": "6e955657-72b7-40c1-a68b-33f188c30789",
   "metadata": {},
   "outputs": [
    {
     "name": "stdout",
     "output_type": "stream",
     "text": [
      "Files: ['.anaconda', '.android', '.conda', '.condarc', '.continuum', '.emulator_console_auth_token', '.gradle', '.ipynb_checkpoints', '.ipython', '.jdks', '.jupyter', '.keras', '.matplotlib', '.spyder-py3', '.VirtualBox', '.vscode', '102317138_Model_Implementation.ipynb', 'anaconda3', 'anaconda_projects', 'AndroidStudioProjects', 'AppData', 'Application Data', 'battery-report.html', 'Contacts', 'Cookies', 'Documents', 'Downloads', 'Favorites', 'Jedi', 'Links', 'Local Settings', 'Music', 'My Documents', 'NetHood', 'NTUSER.DAT', 'ntuser.dat.LOG1', 'ntuser.dat.LOG2', 'NTUSER.DAT{52f8e6ab-d0cc-11ef-8430-81cedb80fc56}.TM.blf', 'NTUSER.DAT{52f8e6ab-d0cc-11ef-8430-81cedb80fc56}.TMContainer00000000000000000001.regtrans-ms', 'NTUSER.DAT{52f8e6ab-d0cc-11ef-8430-81cedb80fc56}.TMContainer00000000000000000002.regtrans-ms', 'ntuser.ini', 'OneDrive', 'PrintHood', 'Recent', 'Saved Games', 'Searches', 'SendTo', 'Start Menu', 'Templates', 'test.txt', 'Untitled.ipynb', 'Videos', 'VirtualBox VMs']\n"
     ]
    }
   ],
   "source": [
    "#Ques 11.3\n",
    "print(\"Files:\", os.listdir())"
   ]
  }
 ],
 "metadata": {
  "kernelspec": {
   "display_name": "Python [conda env:anaconda3] *",
   "language": "python",
   "name": "conda-env-anaconda3-py"
  },
  "language_info": {
   "codemirror_mode": {
    "name": "ipython",
    "version": 3
   },
   "file_extension": ".py",
   "mimetype": "text/x-python",
   "name": "python",
   "nbconvert_exporter": "python",
   "pygments_lexer": "ipython3",
   "version": "3.12.7"
  }
 },
 "nbformat": 4,
 "nbformat_minor": 5
}
