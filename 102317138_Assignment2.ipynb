{
 "cells": [
  {
   "cell_type": "code",
   "execution_count": 35,
   "id": "b54fc264-d2eb-4bfd-966c-37b222ca8f1a",
   "metadata": {},
   "outputs": [],
   "source": [
    "#Ques 1 "
   ]
  },
  {
   "cell_type": "code",
   "execution_count": 1,
   "id": "a5177bca-5f3f-4846-a7a3-a009126f9ffe",
   "metadata": {},
   "outputs": [
    {
     "name": "stdout",
     "output_type": "stream",
     "text": [
      "After adding 200 and 300 : [10, 20, 30, 40, 50, 60, 70, 80, 200, 300]\n",
      "After removing 10 and 30 : [20, 40, 50, 60, 70, 80, 200, 300]\n",
      "Sorted in ascending order : [20, 40, 50, 60, 70, 80, 200, 300]\n",
      "Sorted in descending order : [300, 200, 80, 70, 60, 50, 40, 20]\n"
     ]
    }
   ],
   "source": [
    "L=[10, 20, 30, 40, 50, 60, 70, 80]\n",
    "L.append(200)\n",
    "L.append(300)\n",
    "print('After adding 200 and 300 :',L)\n",
    "\n",
    "L.remove(10)\n",
    "L.remove(30)\n",
    "print('After removing 10 and 30 :',L)\n",
    "\n",
    "L.sort()\n",
    "print('Sorted in ascending order :',L)\n",
    "\n",
    "L.sort(reverse=True)\n",
    "print('Sorted in descending order :',L)"
   ]
  },
  {
   "cell_type": "code",
   "execution_count": 37,
   "id": "1f6bccc3-f812-4a75-ad85-d44078bbb5bf",
   "metadata": {},
   "outputs": [],
   "source": [
    "#Ques 2"
   ]
  },
  {
   "cell_type": "code",
   "execution_count": 11,
   "id": "c8ed78b7-b7a9-4802-a679-3454cc416aa9",
   "metadata": {},
   "outputs": [
    {
     "name": "stdout",
     "output_type": "stream",
     "text": [
      "Maximum marks and its index are 92 and 5 resp.\n",
      "Lowest score is 45 and it appears 2 times in the tuple\n",
      "Reverse tuple as list : [45, 58, 92, 89, 45.4, 76, 89.5, 45]\n"
     ]
    },
    {
     "name": "stdin",
     "output_type": "stream",
     "text": [
      "Input a number 76\n"
     ]
    },
    {
     "name": "stdout",
     "output_type": "stream",
     "text": [
      "It is present in tuple at index 2\n"
     ]
    }
   ],
   "source": [
    "Marks=(45, 89.5, 76, 45.4, 89, 92, 58, 45) \n",
    "\n",
    "print('Maximum marks and its index are',max(Marks),'and',Marks.index(max(Marks)),'resp.')\n",
    "\n",
    "print('Lowest score is',min(Marks),'and it appears',Marks.count(min(Marks)),'times in the tuple')\n",
    "\n",
    "Marks_list=list(Marks[::-1])\n",
    "print('Reverse tuple as list :',Marks_list)\n",
    "\n",
    "a=float(input('Input a number'))\n",
    "if a in Marks:\n",
    "    print('It is present in tuple at index',Marks.index(a))\n",
    "else:\n",
    "    print('It is not present in tuple')"
   ]
  },
  {
   "cell_type": "code",
   "execution_count": 39,
   "id": "e7c9161e-e27f-46e6-867f-17406a469408",
   "metadata": {},
   "outputs": [],
   "source": [
    "#Ques 3"
   ]
  },
  {
   "cell_type": "code",
   "execution_count": 15,
   "id": "d04f692a-9a16-4b67-83b9-3a00256f2b05",
   "metadata": {},
   "outputs": [
    {
     "name": "stdout",
     "output_type": "stream",
     "text": [
      "All odd numbers:129,217,105,629,145,801,657,605,179,601,595,343,389,651,325,391,359,533,513,291,317,447,721,393,291,133,637,545,789,597,657,155,189,151,777,343,791,407,683,715,253,817,295,207,657,\n",
      "\n",
      "Total number of odd numbers 45\n",
      "\n",
      "All even numbers:430,232,314,828,838,634,442,360,870,190,776,834,400,682,588,128,310,712,270,600,432,356,348,770,532,780,240,406,796,546,138,188,360,784,232,580,886,130,304,700,116,590,536,390,536,794,282,142,322,216,528,860,298,554,498,\n",
      "\n",
      "Total number of even numbers 55\n",
      "\n",
      "All prime numbers:179, 601, 389, 359, 317, 151, 683, \n",
      "\n",
      "Total number of prime numbers 7\n"
     ]
    }
   ],
   "source": [
    "import random\n",
    "\n",
    "numbers = [random.randint(100, 900) for i in range(100)]\n",
    "\n",
    "count1=0\n",
    "print('All odd numbers',end=':')\n",
    "for c in numbers:\n",
    "    if c%2!=0: \n",
    "        print(c,end=',')\n",
    "        count1=count1+1\n",
    "\n",
    "print('\\n')\n",
    "print('Total number of odd numbers',count1)\n",
    "\n",
    "print('\\nAll even numbers',end=':')\n",
    "count2=0\n",
    "for c in numbers:\n",
    "    if c%2==0: \n",
    "        print(c,end=',')\n",
    "        count2=count2+1\n",
    "\n",
    "print('\\n')\n",
    "print('Total number of even numbers',count2)\n",
    "\n",
    "print('\\nAll prime numbers',end=':')\n",
    "count3=0\n",
    "for n in numbers:\n",
    "    is_prime = True\n",
    "    for i in range(2, int(n ** 0.5) + 1):  \n",
    "        if n%i == 0:\n",
    "            is_prime = False\n",
    "            break\n",
    "    if is_prime:\n",
    "        print(n, end=', ')\n",
    "        count3=count3+1\n",
    "print('\\n')\n",
    "print('Total number of prime numbers',count3)"
   ]
  },
  {
   "cell_type": "code",
   "execution_count": 41,
   "id": "ddbcc8c6-cc6a-4460-92ac-af7635ee68a9",
   "metadata": {},
   "outputs": [],
   "source": [
    "#Ques 4"
   ]
  },
  {
   "cell_type": "code",
   "execution_count": 23,
   "id": "893fc0a0-cb5e-4837-9c94-4159a50cdee0",
   "metadata": {},
   "outputs": [
    {
     "name": "stdout",
     "output_type": "stream",
     "text": [
      "Unique scores acheived by both teams : {34, 45, 78, 23, 56, 90}\n",
      "Scores that are common to both teams : {90, 78}\n",
      "Scores exclusive to each team : {34, 45, 23, 56}\n",
      "Are the scores of team A subset of team B? False\n",
      "Are the scores of team B superset of team A? False\n"
     ]
    },
    {
     "name": "stdin",
     "output_type": "stream",
     "text": [
      "Enter a score : 56\n"
     ]
    },
    {
     "name": "stdout",
     "output_type": "stream",
     "text": [
      "Set A after removing 56 : {34, 90, 78}\n"
     ]
    }
   ],
   "source": [
    "A={34,56,78,90}\n",
    "B={78,45,90,23} \n",
    "\n",
    "union_set=A.union(B)\n",
    "print('Unique scores acheived by both teams :',union_set)\n",
    "\n",
    "inter_set=A.intersection(B)\n",
    "print('Scores that are common to both teams :',inter_set)\n",
    "\n",
    "symm_diff_set=A.symmetric_difference(B)\n",
    "print('Scores exclusive to each team :',symm_diff_set)\n",
    "\n",
    "print('Are the scores of team A subset of team B?',A.issubset(B))\n",
    "\n",
    "print('Are the scores of team B superset of team A?',B.issuperset(A))\n",
    "\n",
    "x=int(input('Enter a score :'))\n",
    "if x in A:\n",
    "    A.remove(x)\n",
    "    print('Set A after removing',x,':',A)\n",
    "else:\n",
    "    print(x,'is not present in Set A')"
   ]
  },
  {
   "cell_type": "code",
   "execution_count": 43,
   "id": "9465bc1f-6ad1-4458-8978-a4c13374e6c3",
   "metadata": {},
   "outputs": [],
   "source": [
    "#Ques 5"
   ]
  },
  {
   "cell_type": "code",
   "execution_count": 33,
   "id": "ba4788a7-bca7-4b4f-a75a-71c6e726c811",
   "metadata": {},
   "outputs": [
    {
     "name": "stdout",
     "output_type": "stream",
     "text": [
      "Modified dictionary : {'name': 'Kelly', 'age': 25, 'salary': 8000, 'location': 'New york'}\n"
     ]
    }
   ],
   "source": [
    "sample_dict={'name':'Kelly', 'age':25, 'salary':8000, 'city':'New york'}\n",
    "sample_dict['location']=sample_dict['city']\n",
    "sample_dict.pop('city')\n",
    "print('Modified dictionary :',sample_dict)"
   ]
  }
 ],
 "metadata": {
  "kernelspec": {
   "display_name": "Python [conda env:anaconda3] *",
   "language": "python",
   "name": "conda-env-anaconda3-py"
  },
  "language_info": {
   "codemirror_mode": {
    "name": "ipython",
    "version": 3
   },
   "file_extension": ".py",
   "mimetype": "text/x-python",
   "name": "python",
   "nbconvert_exporter": "python",
   "pygments_lexer": "ipython3",
   "version": "3.12.7"
  }
 },
 "nbformat": 4,
 "nbformat_minor": 5
}
